{
 "cells": [
  {
   "cell_type": "code",
   "execution_count": 1,
   "metadata": {},
   "outputs": [],
   "source": [
    "import numpy as np\n",
    "from sklearn.neighbors.kde import KernelDensity\n",
    "from sklearn.model_selection import train_test_split\n",
    "from sklearn.model_selection import StratifiedKFold\n",
    "from sklearn.metrics import confusion_matrix\n",
    "\n",
    "import matplotlib.pyplot as plt"
   ]
  },
  {
   "cell_type": "code",
   "execution_count": 2,
   "metadata": {
    "ExecuteTime": {
     "end_time": "2019-10-20T13:18:34.949267Z",
     "start_time": "2019-10-20T13:18:34.857029Z"
    }
   },
   "outputs": [],
   "source": [
    "# Load the Training and Test sets\n",
    "Train = np.loadtxt('TP1_train.tsv', delimiter='\\t')\n",
    "Test = np.loadtxt('TP1_test.tsv', delimiter='\\t')\n",
    "\n",
    "# Shuffles the test and train sets\n",
    "np.random.shuffle(Train)\n",
    "np.random.shuffle(Test)"
   ]
  },
  {
   "cell_type": "code",
   "execution_count": 3,
   "metadata": {
    "ExecuteTime": {
     "end_time": "2019-10-20T13:18:34.966374Z",
     "start_time": "2019-10-20T13:18:34.952462Z"
    }
   },
   "outputs": [],
   "source": [
    "# labels\n",
    "Y_Train = Train[:, -1]\n",
    "Y_Test = Test[:, -1]\n",
    "\n",
    "\n",
    "# standartize the train and test values\n",
    "Xmeans = np.mean(Test[:, :-1], axis=0)\n",
    "Xstd = np.std(Test[:, :-1], axis=0)\n",
    "X_Test = (Test[:, :-1]-Xmeans)/Xstd\n",
    "\n",
    "Xmeans = np.mean(Train[:, :-1], axis=0)\n",
    "Xstd = np.std(Train[:, :-1], axis=0)\n",
    "X_Train = (Train[:, :-1]-Xmeans)/Xstd\n",
    "\n",
    "data = np.column_stack((X_Train, Y_Train))"
   ]
  },
  {
   "cell_type": "code",
   "execution_count": null,
   "metadata": {},
   "outputs": [],
   "source": []
  }
 ],
 "metadata": {
  "kernelspec": {
   "display_name": "Python 3",
   "language": "python",
   "name": "python3"
  },
  "language_info": {
   "codemirror_mode": {
    "name": "ipython",
    "version": 3
   },
   "file_extension": ".py",
   "mimetype": "text/x-python",
   "name": "python",
   "nbconvert_exporter": "python",
   "pygments_lexer": "ipython3",
   "version": "3.7.4"
  }
 },
 "nbformat": 4,
 "nbformat_minor": 4
}
