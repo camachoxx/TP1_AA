{
 "cells": [
  {
   "cell_type": "code",
   "execution_count": 3,
   "metadata": {},
   "outputs": [],
   "source": [
    "import numpy as np\n",
    "from sklearn.neighbors.kde import KernelDensity\n",
    "from sklearn.model_selection import train_test_split\n",
    "from sklearn.model_selection import StratifiedKFold\n",
    "from sklearn.metrics import confusion_matrix\n"
   ]
  },
  {
   "cell_type": "code",
   "execution_count": 4,
   "metadata": {},
   "outputs": [],
   "source": [
    "#Load the Training and Test sets \n",
    "Train=np.loadtxt('TP1_train.tsv',delimiter='\\t')\n",
    "Test=np.loadtxt('TP1_test.tsv',delimiter='\\t')\n",
    "\n",
    "#Shuffles the test and train sets\n",
    "np.random.shuffle(Train)\n",
    "np.random.shuffle(Test)"
   ]
  },
  {
   "cell_type": "code",
   "execution_count": 6,
   "metadata": {},
   "outputs": [],
   "source": [
    "#Separating the values of the sets from the labels\n",
    "X=Train[:,:-1]\n",
    "Y=Train[:,-1]\n",
    "\n",
    "X_test=Test[:,:-1]\n",
    "Y_test=Test[:,-1]"
   ]
  },
  {
   "cell_type": "code",
   "execution_count": 7,
   "metadata": {},
   "outputs": [],
   "source": [
    "#standartize the train and test values\n",
    "Xmeans=np.mean(X_test,axis=0)\n",
    "Xstd=np.std(X_test,axis=0)\n",
    "X_test=(X_test-Xmeans)/Xstd  \n",
    "\n",
    "Xmeans=np.mean(X,axis=0)\n",
    "Xstd=np.std(X,axis=0)\n",
    "X=(X-Xmeans)/Xstd  "
   ]
  },
  {
   "cell_type": "code",
   "execution_count": 8,
   "metadata": {},
   "outputs": [],
   "source": [
    "#Defines the range of the bandwidth cross validation testing\n",
    "bd1=np.linspace(0.01,1,30)\n",
    "bd2=np.linspace(1,10,40)\n",
    "bandwidth=np.concatenate(bd1,bd2)\n",
    "\n",
    "#Cross Validation with 10 folds\n",
    "kf = StratifiedKFold(n_splits=10)\n",
    "folds=10\n",
    "sc=[]\n",
    "Vbw=[]\n",
    "scores=[]\n",
    "for bw in bandwidth:\n",
    "    #Needs Completion\n",
    "     tr_err = va_err = 0\n",
    "     for tr_ix,va_ix in kf.split(X,Y):\n",
    "         #Study how to use this function\n",
    "         kde = KernelDensity(kernel='gaussian', bandwidth=bw).fit(X[tr_ix],Y[tr_ix])\n",
    "         sc.append(kde.score(X[va_ix],Y[va_ix]))\n",
    "     scores.append(np.sum(sc)/len(sc))\n",
    "     sc=[]\n",
    "     Vbw.append(bw)"
   ]
  },
  {
   "cell_type": "code",
   "execution_count": 9,
   "metadata": {},
   "outputs": [
    {
     "name": "stdout",
     "output_type": "stream",
     "text": [
      "Best score->-339.8970888738179 with bandwidth= 0.14655172413793105\n"
     ]
    }
   ],
   "source": [
    "bestBW=Vbw[np.argmax(scores)]\n",
    "print(\"Best score->\" + str(np.max(scores)) + \" with bandwidth= \" + str(bestBW))\n",
    "pClass1=np.log(np.sum(Y_test)/len(Y_test))\n",
    "pClass0=np.log(1-np.sum(Y_test)/len(Y_test))\n",
    "kde = KernelDensity(kernel='gaussian', bandwidth=bestBW).fit(X,Y)\n",
    "eval=kde.score_samples(X_test)"
   ]
  },
  {
   "cell_type": "code",
   "execution_count": null,
   "metadata": {},
   "outputs": [],
   "source": []
  }
 ],
 "metadata": {
  "kernelspec": {
   "display_name": "Python 3",
   "language": "python",
   "name": "python3"
  },
  "language_info": {
   "codemirror_mode": {
    "name": "ipython",
    "version": 3
   },
   "file_extension": ".py",
   "mimetype": "text/x-python",
   "name": "python",
   "nbconvert_exporter": "python",
   "pygments_lexer": "ipython3",
   "version": "3.7.3"
  }
 },
 "nbformat": 4,
 "nbformat_minor": 2
}
