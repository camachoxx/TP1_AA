{
 "cells": [
  {
   "cell_type": "markdown",
   "metadata": {
    "toc": true
   },
   "source": [
    "<h1>Table of Contents<span class=\"tocSkip\"></span></h1>\n",
    "<div class=\"toc\"><ul class=\"toc-item\"></ul></div>"
   ]
  },
  {
   "cell_type": "code",
   "execution_count": 1,
   "metadata": {
    "ExecuteTime": {
     "end_time": "2019-10-20T13:22:22.020966Z",
     "start_time": "2019-10-20T13:22:22.010034Z"
    }
   },
   "outputs": [],
   "source": [
    "import numpy as np\n",
    "from sklearn.neighbors.kde import KernelDensity\n",
    "from sklearn.model_selection import train_test_split\n",
    "from sklearn.model_selection import StratifiedKFold\n",
    "from sklearn.metrics import confusion_matrix\n",
    "\n",
    "import matplotlib.pyplot as plt"
   ]
  },
  {
   "cell_type": "code",
   "execution_count": 2,
   "metadata": {
    "ExecuteTime": {
     "end_time": "2019-10-20T13:18:34.949267Z",
     "start_time": "2019-10-20T13:18:34.857029Z"
    }
   },
   "outputs": [],
   "source": [
    "# Load the Training and Test sets\n",
    "Train = np.loadtxt('TP1_train.tsv', delimiter='\\t')\n",
    "Test = np.loadtxt('TP1_test.tsv', delimiter='\\t')\n",
    "\n",
    "# Shuffles the test and train sets\n",
    "np.random.shuffle(Train)\n",
    "np.random.shuffle(Test)"
   ]
  },
  {
   "cell_type": "code",
   "execution_count": 3,
   "metadata": {
    "ExecuteTime": {
     "end_time": "2019-10-20T13:18:34.966374Z",
     "start_time": "2019-10-20T13:18:34.952462Z"
    }
   },
   "outputs": [],
   "source": [
    "# labels\n",
    "Y_Train = Train[:, -1]\n",
    "Y_Test = Test[:, -1]\n",
    "\n",
    "\n",
    "# standartize the train and test values\n",
    "Xmeans = np.mean(Test[:, :-1], axis=0)\n",
    "Xstd = np.std(Test[:, :-1], axis=0)\n",
    "X_Test = (Test[:, :-1]-Xmeans)/Xstd\n",
    "\n",
    "Xmeans = np.mean(Train[:, :-1], axis=0)\n",
    "Xstd = np.std(Train[:, :-1], axis=0)\n",
    "X_Train = (Train[:, :-1]-Xmeans)/Xstd\n",
    "\n",
    "data = np.column_stack((X_Train, Y_Train))"
   ]
  },
  {
   "cell_type": "code",
   "execution_count": 4,
   "metadata": {
    "ExecuteTime": {
     "end_time": "2019-10-20T13:18:34.986172Z",
     "start_time": "2019-10-20T13:18:34.969421Z"
    }
   },
   "outputs": [],
   "source": [
    "# Developing the model\n",
    "\n",
    "\n",
    "def Kde_model(bw, data):\n",
    "    # Returns the classifier list for the given bandwidth and data\n",
    "    # The data must be [[feats],y]\n",
    "    kde_list = [[], []]\n",
    "\n",
    "    data_0 = data[data[:, -1] == 0]\n",
    "\n",
    "    data_1 = data[data[:, -1] == 1]\n",
    "\n",
    "    # Class 0\n",
    "    X_feats = data_0[:, :-1]\n",
    "\n",
    "    # Y=data_0[:,-1]\n",
    "    for feat in range(X_feats.shape[1]):\n",
    "\n",
    "        X_y = X_feats[:, feat]\n",
    "\n",
    "        kde = KernelDensity(kernel='gaussian', bandwidth=bw)\n",
    "        kde.fit(X_y.reshape(-1, 1))\n",
    "        kde_list[0].append(kde)\n",
    "\n",
    "    # Class 1\n",
    "    X_feats = data_1[:, :-1]\n",
    "    # Y=data_1[:,-1]\n",
    "    for feat in range(X_feats.shape[1]):\n",
    "        X_y = X_feats[:, feat]\n",
    "\n",
    "        kde = KernelDensity(kernel='gaussian', bandwidth=bw)\n",
    "        kde.fit(X_y.reshape(-1, 1))\n",
    "        kde_list[1].append(kde)\n",
    "\n",
    "    return kde_list"
   ]
  },
  {
   "cell_type": "code",
   "execution_count": 5,
   "metadata": {
    "ExecuteTime": {
     "end_time": "2019-10-20T13:18:35.005667Z",
     "start_time": "2019-10-20T13:18:34.990636Z"
    }
   },
   "outputs": [],
   "source": [
    "def Kde_class(kde, data):\n",
    "    # Returns a score for the given kde and data\n",
    "    # data must be [[feats],y]\n",
    "    cla = [0, 1]\n",
    "    data_x = data[:, :-1]\n",
    "    y = data[:, -1]\n",
    "    sc = []\n",
    "    score = []\n",
    "    data_y = []\n",
    "\n",
    "    for c in cla:\n",
    "        for feat in range(np.shape(kde)[1]):\n",
    "            k = kde[c][feat]\n",
    "            sc.append(k.score_samples(data_x[:, feat].reshape(-1, 1)))\n",
    "\n",
    "        score.append(np.sum(sc, axis=0))\n",
    "        sc = []\n",
    "\n",
    "    data_y.append(np.argmax(score, axis=0))\n",
    "\n",
    "    return np.squeeze(data_y)"
   ]
  },
  {
   "cell_type": "code",
   "execution_count": 6,
   "metadata": {
    "ExecuteTime": {
     "end_time": "2019-10-20T13:18:35.017079Z",
     "start_time": "2019-10-20T13:18:35.009118Z"
    }
   },
   "outputs": [],
   "source": [
    "def Calc_err(y_true, y_pred):\n",
    "    # Calculates the err of the y_pred vector\n",
    "\n",
    "    cm = confusion_matrix(y_true, y_pred)\n",
    "\n",
    "    acc = np.trace(cm)/np.sum(cm)\n",
    "    return (1-acc)"
   ]
  },
  {
   "cell_type": "code",
   "execution_count": 7,
   "metadata": {
    "ExecuteTime": {
     "end_time": "2019-10-20T13:18:35.037371Z",
     "start_time": "2019-10-20T13:18:35.024486Z"
    }
   },
   "outputs": [],
   "source": [
    "def Kde_cross_validation(bandwidth, data):\n",
    "    # cross validates the model for the given bandwidth vector\n",
    "    # returns the best bandwidth\n",
    "    # The data must be [x,y]\n",
    "\n",
    "    kf = StratifiedKFold(n_splits=5)\n",
    "    y_true = data[:, -1]\n",
    "    train_err = val_err = []\n",
    "    vaerr = []\n",
    "    trerr = []\n",
    "\n",
    "    for bw in bandwidth:\n",
    "        for tr_ix, va_ix in kf.split(data[:, :-1], data[:, -1]):\n",
    "            # Fit the data for a certain fold and save the value of the score\n",
    "            kde = Kde_model(bw, data[tr_ix])\n",
    "            y_pred_tr = Kde_class(kde, data[tr_ix])\n",
    "            y_pred_val = Kde_class(kde, data[va_ix])\n",
    "\n",
    "            train_err.append(Calc_err(y_true[tr_ix], y_pred_tr))\n",
    "            val_err.append(Calc_err(y_true[va_ix], y_pred_val))\n",
    "\n",
    "        vaerr.append(np.mean(val_err, axis=0))\n",
    "        trerr.append(np.mean(train_err, axis=0))\n",
    "        train_err = []\n",
    "        val_err = []\n",
    "\n",
    "    best_bw = bandwidth[np.argmin(vaerr)]\n",
    "    return best_bw, trerr, vaerr"
   ]
  },
  {
   "cell_type": "code",
   "execution_count": 8,
   "metadata": {
    "ExecuteTime": {
     "end_time": "2019-10-20T13:19:33.553360Z",
     "start_time": "2019-10-20T13:18:35.041016Z"
    }
   },
   "outputs": [],
   "source": [
    "# Defines the range of the bandwidth cross validation testing\n",
    "\n",
    "bandwidth = np.arange(0.02, 0.6, 0.02)\n",
    "\n",
    "best_bw, train_err, val_err = Kde_cross_validation(bandwidth, data)"
   ]
  },
  {
   "cell_type": "code",
   "execution_count": 9,
   "metadata": {
    "ExecuteTime": {
     "end_time": "2019-10-20T13:19:34.105240Z",
     "start_time": "2019-10-20T13:19:33.555697Z"
    }
   },
   "outputs": [
    {
     "data": {
      "image/png": "[encoded data removed]",
      "text/plain": [
       "<Figure size 800x640 with 1 Axes>"
      ]
     },
     "metadata": {},
     "output_type": "display_data"
    }
   ],
   "source": [
    "from matplotlib.pyplot import figure\n",
    "figure(num=None, figsize=(10, 8), dpi=80, facecolor='w', edgecolor='k')\n",
    "tr = plt.plot(bandwidth, train_err, color=\"b\")\n",
    "va = plt.plot(bandwidth, val_err, color=\"r\")\n",
    "\n",
    "axes = plt.gca()\n",
    "axes.set_xlim(0, np.max(bandwidth))\n",
    "axes.set_ylabel(\"Error\")\n",
    "axes.set_xlabel(\"Bandwidth\")\n",
    "\n",
    "plt.title('Cross Validation results')\n",
    "plt.legend(['Training error', 'Validation error'])\n",
    "plt.savefig('NB.png')"
   ]
  },
  {
   "cell_type": "code",
   "execution_count": null,
   "metadata": {
    "ExecuteTime": {
     "end_time": "2019-10-20T13:19:47.544725Z",
     "start_time": "2019-10-20T13:19:34.108701Z"
    }
   },
   "outputs": [
    {
     "name": "stderr",
     "output_type": "stream",
     "text": [
      "/opt/anaconda/lib/python3.7/site-packages/statsmodels/nonparametric/kde.py:487: RuntimeWarning: invalid value encountered in true_divide\n",
      "  binned = fast_linbin(X, a, b, gridsize) / (delta * nobs)\n",
      "/opt/anaconda/lib/python3.7/site-packages/statsmodels/nonparametric/kdetools.py:34: RuntimeWarning: invalid value encountered in double_scalars\n",
      "  FAC1 = 2*(np.pi*bw/RANGE)**2\n"
     ]
    },
    {
     "data": {
      "text/plain": [
       "<seaborn.axisgrid.PairGrid at 0x7fb5c0bba890>"
      ]
     },
     "execution_count": 10,
     "metadata": {},
     "output_type": "execute_result"
    }
   ],
   "source": [
    "import seaborn as sns\n",
    "import pandas as pd\n",
    "Df=pd.DataFrame(data,columns=[\"x1\",\"x2\",\"x3\",\"x4\",\"target_column\"])\n",
    "sns.pairplot(Df, hue=\"target_column\")\n"
   ]
  },
  {
   "cell_type": "code",
   "execution_count": null,
   "metadata": {
    "ExecuteTime": {
     "end_time": "2019-10-20T13:19:47.755352Z",
     "start_time": "2019-10-20T13:19:47.547272Z"
    }
   },
   "outputs": [],
   "source": [
    "Df"
   ]
  }
 ],
 "metadata": {
  "kernelspec": {
   "display_name": "Python 3",
   "language": "python",
   "name": "python3"
  },
  "language_info": {
   "codemirror_mode": {
    "name": "ipython",
    "version": 3
   },
   "file_extension": ".py",
   "mimetype": "text/x-python",
   "name": "python",
   "nbconvert_exporter": "python",
   "pygments_lexer": "ipython3",
   "version": "3.7.4"
  },
  "toc": {
   "base_numbering": 1,
   "nav_menu": {},
   "number_sections": true,
   "sideBar": true,
   "skip_h1_title": false,
   "title_cell": "Table of Contents",
   "title_sidebar": "Contents",
   "toc_cell": true,
   "toc_position": {},
   "toc_section_display": true,
   "toc_window_display": false
  },
  "varInspector": {
   "cols": {
    "lenName": 16,
    "lenType": 16,
    "lenVar": 40
   },
   "kernels_config": {
    "python": {
     "delete_cmd_postfix": "",
     "delete_cmd_prefix": "del ",
     "library": "var_list.py",
     "varRefreshCmd": "print(var_dic_list())"
    },
    "r": {
     "delete_cmd_postfix": ") ",
     "delete_cmd_prefix": "rm(",
     "library": "var_list.r",
     "varRefreshCmd": "cat(var_dic_list()) "
    }
   },
   "oldHeight": 200.979818,
   "position": {
    "height": "40px",
    "left": "577.994px",
    "right": "20px",
    "top": "6.96875px",
    "width": "581.989px"
   },
   "types_to_exclude": [
    "module",
    "function",
    "builtin_function_or_method",
    "instance",
    "_Feature"
   ],
   "varInspector_section_display": "none",
   "window_display": true
  }
 },
 "nbformat": 4,
 "nbformat_minor": 4
}
